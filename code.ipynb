{
 "cells": [
  {
   "cell_type": "code",
   "execution_count": 3,
   "metadata": {
    "collapsed": false
   },
   "outputs": [],
   "source": [
    "from sklearn import svm\n",
    "from sklearn import preprocessing as pre\n",
    "from sklearn.metrics import accuracy_score\n",
    "from sklearn.neighbors import KNeighborsClassifier\n",
    "from sklearn import model_selection\n",
    "import numpy as np\n",
    "from sklearn.neural_network import MLPClassifier\n",
    "from sklearn import tree\n",
    "from sklearn.naive_bayes import GaussianNB\n",
    "\n",
    "\n",
    "\n",
    "def code(testX):\n",
    "\n",
    "    trainFileName=\"newTrainingData.csv\"\n",
    "    trainData = np.genfromtxt( fname =trainFileName, delimiter= ',') # read training data from file\n",
    "    trainX=trainData[1:,2:12] # create tranining data matix\n",
    "    #trainX=trainData[1:,2:39] # create tranining data matix\n",
    "\n",
    "    trainLabel = np.genfromtxt( fname =\"TrainingLabels.csv\", delimiter= ',', dtype='U11') # read training data from file\n",
    "    trainY=trainLabel[1:] # create labels array\n",
    "    C=10\n",
    "    gamma= 0.001\n",
    "    clf = svm.SVC(C=C, gamma=gamma, kernel ='linear')\n",
    "    #clf=tree.DecisionTreeClassifier()\n",
    "    #clf = KNeighborsClassifier(n_neighbors=3)\n",
    "    #clf=MLPClassifier(solver='lbfgs', alpha=1e-5,hidden_layer_sizes=(15,), random_state=1)\n",
    "\n",
    "    clf.fit(trainX, trainY)\n",
    "\n",
    "\n",
    "\n",
    "\n",
    "    testData = np.genfromtxt( fname =testX, delimiter= ',') # read training data from file\n",
    "    testX=testData[1:,2:12] # create tranining data matix\n",
    "\n",
    "\n",
    "    testPredy=clf.predict(testX)\n",
    "    print(\"\\t\\t\\t\\t --Predicted Emotion ..\")\n",
    "    print(testPredy)\n",
    "\n",
    "\n",
    "    return testPredy\n",
    "\n",
    "\n",
    "\n",
    "#prediction = pd.DataFrame(testPredy,columns=['Label'])\n",
    "#prediction.to_csv('prediction.csv',index_label='ID')\n",
    "\n",
    "\n",
    "\n",
    "\n",
    "\n",
    "\n",
    "#print(accuracy_score(testY, testPredy))\n"
   ]
  },
  {
   "cell_type": "code",
   "execution_count": 4,
   "metadata": {
    "collapsed": false
   },
   "outputs": [
    {
     "ename": "NameError",
     "evalue": "name 'hi' is not defined",
     "output_type": "error",
     "traceback": [
      "\u001b[0;31m---------------------------------------------------------------------------\u001b[0m",
      "\u001b[0;31mNameError\u001b[0m                                 Traceback (most recent call last)",
      "\u001b[0;32m<ipython-input-4-a77f9b92f7be>\u001b[0m in \u001b[0;36m<module>\u001b[0;34m()\u001b[0m\n\u001b[0;32m----> 1\u001b[0;31m \u001b[0mprint\u001b[0m\u001b[1;33m(\u001b[0m\u001b[0mhi\u001b[0m\u001b[1;33m)\u001b[0m\u001b[1;33m\u001b[0m\u001b[0m\n\u001b[0m",
      "\u001b[0;31mNameError\u001b[0m: name 'hi' is not defined"
     ]
    }
   ],
   "source": [
    "print(hi)"
   ]
  },
  {
   "cell_type": "code",
   "execution_count": null,
   "metadata": {
    "collapsed": true
   },
   "outputs": [],
   "source": []
  }
 ],
 "metadata": {
  "kernelspec": {
   "display_name": "Python 3",
   "language": "python",
   "name": "python3"
  },
  "language_info": {
   "codemirror_mode": {
    "name": "ipython",
    "version": 3
   },
   "file_extension": ".py",
   "mimetype": "text/x-python",
   "name": "python",
   "nbconvert_exporter": "python",
   "pygments_lexer": "ipython3",
   "version": "3.6.0"
  }
 },
 "nbformat": 4,
 "nbformat_minor": 2
}
