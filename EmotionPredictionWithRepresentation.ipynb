{
 "cells": [
  {
   "cell_type": "code",
   "execution_count": 2,
   "metadata": {
    "collapsed": false
   },
   "outputs": [
    {
     "data": {
      "text/html": [
       "<div>\n",
       "<table border=\"1\" class=\"dataframe\">\n",
       "  <thead>\n",
       "    <tr style=\"text-align: right;\">\n",
       "      <th></th>\n",
       "      <th>Unnamed: 0</th>\n",
       "      <th>tempo</th>\n",
       "      <th>average_beats</th>\n",
       "      <th>chroma_stft_mean</th>\n",
       "      <th>chroma_cq_mean</th>\n",
       "      <th>chroma_cens_mean</th>\n",
       "      <th>melspectrogram_mean</th>\n",
       "      <th>mfcc_mean</th>\n",
       "      <th>mfcc_delta_mean</th>\n",
       "      <th>rmse_value</th>\n",
       "      <th>energy_value</th>\n",
       "      <th>pow_value</th>\n",
       "    </tr>\n",
       "  </thead>\n",
       "  <tbody>\n",
       "    <tr>\n",
       "      <th>0</th>\n",
       "      <td>1</td>\n",
       "      <td>215.332031</td>\n",
       "      <td>73.0</td>\n",
       "      <td>0.483418</td>\n",
       "      <td>0.551106</td>\n",
       "      <td>0.275794</td>\n",
       "      <td>1.820109</td>\n",
       "      <td>-19.420459</td>\n",
       "      <td>0.077504</td>\n",
       "      <td>0.059540</td>\n",
       "      <td>-41.735454</td>\n",
       "      <td>-30.599430</td>\n",
       "    </tr>\n",
       "    <tr>\n",
       "      <th>1</th>\n",
       "      <td>2</td>\n",
       "      <td>258.398438</td>\n",
       "      <td>67.0</td>\n",
       "      <td>0.445499</td>\n",
       "      <td>0.578630</td>\n",
       "      <td>0.279166</td>\n",
       "      <td>1.297865</td>\n",
       "      <td>-14.541145</td>\n",
       "      <td>0.268970</td>\n",
       "      <td>0.052430</td>\n",
       "      <td>-37.889742</td>\n",
       "      <td>-26.584167</td>\n",
       "    </tr>\n",
       "    <tr>\n",
       "      <th>2</th>\n",
       "      <td>3</td>\n",
       "      <td>151.999081</td>\n",
       "      <td>49.5</td>\n",
       "      <td>0.376109</td>\n",
       "      <td>0.561409</td>\n",
       "      <td>0.283134</td>\n",
       "      <td>4.274416</td>\n",
       "      <td>-13.687681</td>\n",
       "      <td>-0.038535</td>\n",
       "      <td>0.121896</td>\n",
       "      <td>-29.205927</td>\n",
       "      <td>-18.130950</td>\n",
       "    </tr>\n",
       "    <tr>\n",
       "      <th>3</th>\n",
       "      <td>4</td>\n",
       "      <td>99.384014</td>\n",
       "      <td>35.0</td>\n",
       "      <td>0.401752</td>\n",
       "      <td>0.547179</td>\n",
       "      <td>0.278545</td>\n",
       "      <td>2.801192</td>\n",
       "      <td>-16.490017</td>\n",
       "      <td>-0.045572</td>\n",
       "      <td>0.092446</td>\n",
       "      <td>-35.949236</td>\n",
       "      <td>-24.867398</td>\n",
       "    </tr>\n",
       "    <tr>\n",
       "      <th>4</th>\n",
       "      <td>5</td>\n",
       "      <td>287.109375</td>\n",
       "      <td>32.0</td>\n",
       "      <td>0.436714</td>\n",
       "      <td>0.517175</td>\n",
       "      <td>0.267707</td>\n",
       "      <td>6.257126</td>\n",
       "      <td>-11.969786</td>\n",
       "      <td>0.087686</td>\n",
       "      <td>0.105562</td>\n",
       "      <td>-39.498957</td>\n",
       "      <td>-28.088612</td>\n",
       "    </tr>\n",
       "  </tbody>\n",
       "</table>\n",
       "</div>"
      ],
      "text/plain": [
       "   Unnamed: 0       tempo  average_beats  chroma_stft_mean  chroma_cq_mean  \\\n",
       "0           1  215.332031           73.0          0.483418        0.551106   \n",
       "1           2  258.398438           67.0          0.445499        0.578630   \n",
       "2           3  151.999081           49.5          0.376109        0.561409   \n",
       "3           4   99.384014           35.0          0.401752        0.547179   \n",
       "4           5  287.109375           32.0          0.436714        0.517175   \n",
       "\n",
       "   chroma_cens_mean  melspectrogram_mean  mfcc_mean  mfcc_delta_mean  \\\n",
       "0          0.275794             1.820109 -19.420459         0.077504   \n",
       "1          0.279166             1.297865 -14.541145         0.268970   \n",
       "2          0.283134             4.274416 -13.687681        -0.038535   \n",
       "3          0.278545             2.801192 -16.490017        -0.045572   \n",
       "4          0.267707             6.257126 -11.969786         0.087686   \n",
       "\n",
       "   rmse_value  energy_value  pow_value  \n",
       "0    0.059540    -41.735454 -30.599430  \n",
       "1    0.052430    -37.889742 -26.584167  \n",
       "2    0.121896    -29.205927 -18.130950  \n",
       "3    0.092446    -35.949236 -24.867398  \n",
       "4    0.105562    -39.498957 -28.088612  "
      ]
     },
     "execution_count": 2,
     "metadata": {},
     "output_type": "execute_result"
    }
   ],
   "source": [
    "import pandas as pd\n",
    "import numpy as np\n",
    "\n",
    "import seaborn as sns\n",
    "import matplotlib.pyplot as plt\n",
    "from code import code\n",
    "%matplotlib inline\n",
    "\n",
    "df = pd.read_csv(\"C:\\\\Users\\\\Hamid\\\\Desktop\\\\svm\\\\Codes\\\\21-11-18\\\\TrainFeatures.csv\")\n",
    "df.head()\n"
   ]
  },
  {
   "cell_type": "code",
   "execution_count": 2,
   "metadata": {
    "collapsed": false
   },
   "outputs": [
    {
     "name": "stdout",
     "output_type": "stream",
     "text": [
      "<class 'pandas.core.frame.DataFrame'>\n",
      "RangeIndex: 239 entries, 0 to 238\n",
      "Data columns (total 13 columns):\n",
      "Index                  239 non-null int64\n",
      "tempo                  239 non-null float64\n",
      "average_beats          239 non-null float64\n",
      "chroma_stft_mean       239 non-null float64\n",
      "chroma_cq_mean         239 non-null float64\n",
      "chroma_cens_mean       239 non-null float64\n",
      "melspectrogram_mean    239 non-null float64\n",
      "mfcc_mean              239 non-null float64\n",
      "mfcc_delta_mean        239 non-null float64\n",
      "rmse_value             239 non-null float64\n",
      "energy_value           239 non-null float64\n",
      "pow_value              239 non-null float64\n",
      "Label                  239 non-null object\n",
      "dtypes: float64(11), int64(1), object(1)\n",
      "memory usage: 24.4+ KB\n"
     ]
    }
   ],
   "source": [
    "df.info()\n"
   ]
  },
  {
   "cell_type": "code",
   "execution_count": 3,
   "metadata": {
    "collapsed": false
   },
   "outputs": [
    {
     "data": {
      "text/plain": [
       "array(['Angry', 'Happy', 'Sad'], dtype=object)"
      ]
     },
     "execution_count": 3,
     "metadata": {},
     "output_type": "execute_result"
    }
   ],
   "source": [
    "#how many categories we have?\n",
    "df['Label'].unique()"
   ]
  },
  {
   "cell_type": "code",
   "execution_count": 4,
   "metadata": {
    "collapsed": false
   },
   "outputs": [
    {
     "data": {
      "image/png": "[encoded data removed]",
      "text/plain": [
       "<matplotlib.figure.Figure at 0x7e3657f208>"
      ]
     },
     "metadata": {},
     "output_type": "display_data"
    }
   ],
   "source": [
    "plt.figure(figsize = (10, 8))\n",
    "sns.countplot(df['Label'])\n",
    "plt.show()"
   ]
  },
  {
   "cell_type": "code",
   "execution_count": 5,
   "metadata": {
    "collapsed": false
   },
   "outputs": [
    {
     "data": {
      "text/plain": [
       "Angry    118\n",
       "Happy     64\n",
       "Sad       57\n",
       "Name: Label, dtype: int64"
      ]
     },
     "execution_count": 5,
     "metadata": {},
     "output_type": "execute_result"
    }
   ],
   "source": [
    "df['Label'].value_counts()\n"
   ]
  },
  {
   "cell_type": "code",
   "execution_count": 6,
   "metadata": {
    "collapsed": false
   },
   "outputs": [
    {
     "data": {
      "text/plain": [
       "0"
      ]
     },
     "execution_count": 6,
     "metadata": {},
     "output_type": "execute_result"
    }
   ],
   "source": [
    "df.isnull().sum().sum() #Check to see if there are missing values\n"
   ]
  },
  {
   "cell_type": "code",
   "execution_count": 2,
   "metadata": {
    "collapsed": false
   },
   "outputs": [
    {
     "name": "stdout",
     "output_type": "stream",
     "text": [
      "201\n",
      "\t\t====== Actual Testing Set Labels =======\n",
      "\n",
      "------------------------------------------------------------------------------------------------------\n",
      "['Anger' 'Anger' 'Anger' 'Anger' 'Anger' 'Anger' 'Anger' 'Anger' 'Anger'\n",
      " 'Anger' 'Anger' 'Anger' 'Anger' 'Anger' 'Anger' 'Anger' 'Anger' 'Anger'\n",
      " 'Anger' 'Anger' 'Happy' 'Happy' 'Happy' 'Happy' 'Happy' 'Happy' 'Happy'\n",
      " 'Happy' 'Happy' 'Happy' 'Happy' 'Happy' 'Happy' 'Happy' 'Happy' 'Sad'\n",
      " 'Sad' 'Sad' 'Sad' 'Sad' 'Sad' 'Sad' 'Sad' 'Sad' 'Sad' 'Sad' 'Sad' 'Sad'\n",
      " 'Sad' 'Sad']\n",
      "------------------------------------------------------------------------------------------------------\n",
      "\t\t\t====== Predicted Labels =======\n",
      "\n",
      "------------------------------------------------------------------------------------------------------\n",
      "['Anger' 'Anger' 'Anger' 'Anger' 'Anger' 'Anger' 'Anger' 'Anger' 'Happy'\n",
      " 'Anger' 'Anger' 'Anger' 'Anger' 'Anger' 'Anger' 'Anger' 'Anger' 'Anger'\n",
      " 'Anger' 'Happy' 'Happy' 'Happy' 'Happy' 'Happy' 'Happy' 'Happy' 'Happy'\n",
      " 'Happy' 'Happy' 'Happy' 'Happy' 'Anger' 'Happy' 'Sad' 'Sad' 'Sad' 'Sad'\n",
      " 'Sad' 'Sad' 'Sad' 'Sad' 'Sad' 'Sad' 'Sad' 'Sad' 'Sad' 'Sad' 'Sad' 'Sad'\n",
      " 'Sad']\n",
      "------------------------------------------------------------------------------------------------------\n",
      "\n",
      "------------------------------------------------------------------------------------------------------\n",
      "SVM accuracy = 90.0% \n",
      "\n",
      "------------------------------------------------------------------------------------------------------\n",
      "SVM Classification Error = 9.999999999999998% \n"
     ]
    }
   ],
   "source": [
    "from sklearn import svm\n",
    "from sklearn import preprocessing as pre\n",
    "from sklearn.metrics import accuracy_score\n",
    "from sklearn.neighbors import KNeighborsClassifier\n",
    "from sklearn import model_selection\n",
    "import numpy as np\n",
    "import pandas as pd\n",
    "from sklearn.neural_network import MLPClassifier\n",
    "from sklearn import tree\n",
    "from sklearn.naive_bayes import GaussianNB\n",
    "\n",
    "\n",
    "def code(testX):\n",
    "\n",
    "    trainFileName=\"features.csv\"\n",
    "    trainData = np.genfromtxt( fname =trainFileName, delimiter= ',') # read training data from file\n",
    "    trainX=trainData[1:,2:12] # create tranining data matix\n",
    "    #trainX=trainData[1:,2:39] # create tranining data matix\n",
    "\n",
    "    trainLabel = np.genfromtxt( fname =\"TrainingLabels.csv\", delimiter= ',', dtype='U11') # read training data from file\n",
    "    trainY=trainLabel[1:] # create labels array\n",
    "    print(trainY.size)\n",
    "    #C=60,gamma= 1.4176e-007\n",
    "    C=1.0 \n",
    "    gamma = 0.1\n",
    "    clf = svm.SVC(C=C, gamma=gamma, kernel = 'linear')\n",
    "    #clf=tree.DecisionTreeClassifier()\n",
    "    #clf = KNeighborsClassifier(n_neighbors=3)\n",
    "    #clf=MLPClassifier(solver='lbfgs', alpha=1e-5,hidden_layer_sizes=(15,), random_state=1)\n",
    "\n",
    "    clf.fit(trainX, trainY)\n",
    "\n",
    "\n",
    "\n",
    "\n",
    "    testData = np.genfromtxt( fname =testX, delimiter= ',') # read testing data from file\n",
    "    testX=testData[1:,2:12] # create testing data matix\n",
    "\n",
    "    testLabels=np.genfromtxt( fname= \"TestingLabels.csv\", delimiter = ',', dtype ='U11') # read testing data from file\n",
    "    code.testY=testLabels[1:] # create labels array\n",
    "    print(\"\\t\\t====== Actual Testing Set Labels =======\\n\")\n",
    "    print(\"------------------------------------------------------------------------------------------------------\")\n",
    "    print(code.testY)\n",
    "    print(\"------------------------------------------------------------------------------------------------------\")\n",
    "    \n",
    "    code.testPredy=clf.predict(testX)\n",
    "    print(\"\\t\\t\\t====== Predicted Labels =======\\n\")\n",
    "    print(\"------------------------------------------------------------------------------------------------------\")\n",
    "    print(code.testPredy)\n",
    "    print(\"------------------------------------------------------------------------------------------------------\")\n",
    "    \n",
    "    \n",
    "    #return testPredy\n",
    "\n",
    "\n",
    "    prediction = pd.DataFrame(code.testPredy,columns=['Label'])\n",
    "    prediction.to_csv('prediction.csv',index_label='ID')\n",
    "    \n",
    "    accuracy = accuracy_score(code.testY, code.testPredy)\n",
    "    print(\"\\n------------------------------------------------------------------------------------------------------\")\n",
    "    print(\"SVM accuracy = {}% \".format(accuracy * 100))\n",
    "    \n",
    "    classificationError = 1 - accuracy\n",
    "    print(\"\\n------------------------------------------------------------------------------------------------------\")\n",
    "    print(\"SVM Classification Error = {}% \".format(classificationError * 100))\n",
    "\n",
    "   # return code.testY, code.testPredy\n",
    "\n",
    "code(\"TestingFeatures.csv\")"
   ]
  },
  {
   "cell_type": "code",
   "execution_count": 8,
   "metadata": {
    "collapsed": false
   },
   "outputs": [
    {
     "name": "stdout",
     "output_type": "stream",
     "text": [
      "             precision    recall  f1-score   support\n",
      "\n",
      "      Angry       1.00      0.67      0.80         6\n",
      "      Happy       0.60      1.00      0.75         3\n",
      "        Sad       1.00      1.00      1.00         3\n",
      "\n",
      "avg / total       0.90      0.83      0.84        12\n",
      "\n"
     ]
    }
   ],
   "source": [
    "from sklearn.metrics import classification_report, confusion_matrix\n",
    "print(classification_report(code.testY,code.testPredy))"
   ]
  },
  {
   "cell_type": "code",
   "execution_count": 9,
   "metadata": {
    "collapsed": false
   },
   "outputs": [
    {
     "data": {
      "image/png": "[encoded data removed]",
      "text/plain": [
       "<matplotlib.figure.Figure at 0x7e3511c128>"
      ]
     },
     "metadata": {},
     "output_type": "display_data"
    }
   ],
   "source": [
    "import matplotlib.pyplot as plt\n",
    "import seaborn as sns\n",
    "%matplotlib inline\n",
    "\n",
    "\n",
    "labels = ['angry', 'happy', 'sad']\n",
    "cm1 = pd.DataFrame(confusion_matrix(code.testY, code.testPredy), index = labels, columns = labels)\n",
    "plt.figure(figsize = (10, 8))\n",
    "sns.heatmap(cm1, annot = True, cbar = False, fmt = 'g')\n",
    "plt.ylabel('Actual values')\n",
    "plt.xlabel('Predicted values')\n",
    "plt.show()"
   ]
  },
  {
   "cell_type": "code",
   "execution_count": 10,
   "metadata": {
    "collapsed": false
   },
   "outputs": [
    {
     "data": {
      "image/png": "[encoded data removed]",
      "text/plain": [
       "<matplotlib.figure.Figure at 0x7e3526c978>"
      ]
     },
     "metadata": {},
     "output_type": "display_data"
    }
   ],
   "source": [
    "from sklearn.linear_model import LogisticRegression\n"
   ]
  },
  {
   "cell_type": "code",
   "execution_count": 7,
   "metadata": {
    "collapsed": false
   },
   "outputs": [
    {
     "name": "stdout",
     "output_type": "stream",
     "text": [
      "[[ 7.30000000e+01  4.83417558e-01  5.51105952e-01 ...  5.95398680e-02\n",
      "  -4.17354545e+01 -3.05994301e+01]\n",
      " [ 6.70000000e+01  4.45499224e-01  5.78629793e-01 ...  5.24298880e-02\n",
      "  -3.78897420e+01 -2.65841672e+01]\n",
      " [ 4.95000000e+01  3.76109495e-01  5.61409097e-01 ...  1.21895568e-01\n",
      "  -2.92059266e+01 -1.81309501e+01]\n",
      " ...\n",
      " [ 8.00000000e+00  4.00474632e-01  5.01020690e-01 ...  8.23026840e-02\n",
      "  -3.70399206e+01 -2.58763578e+01]\n",
      " [ 2.25000000e+01  4.58640621e-01  5.82693104e-01 ...  4.75488470e-02\n",
      "  -4.37228867e+01 -3.27054031e+01]\n",
      " [ 8.00000000e+00  4.08380610e-01  4.65682899e-01 ...  4.20506360e-02\n",
      "  -4.27667643e+01 -3.15917500e+01]]\n"
     ]
    }
   ],
   "source": [
    "from sklearn import svm\n",
    "from sklearn import preprocessing as pre\n",
    "from sklearn.metrics import accuracy_score\n",
    "from sklearn.neighbors import KNeighborsClassifier\n",
    "from sklearn import model_selection\n",
    "import numpy as np\n",
    "import pandas as pd\n",
    "from sklearn.neural_network import MLPClassifier\n",
    "from sklearn import tree\n",
    "from sklearn.naive_bayes import GaussianNB\n",
    "    \n",
    "trainFileName=\"C:\\\\Users\\\\Hamid\\\\Desktop\\\\svm\\\\Codes\\\\21-11-18\\\\TrainFeatures.csv\"\n",
    "#trainData = np.genfromtxt( fname =trainFileName, delimiter= ',') # read training data from file\n",
    "#trainX=trainData[1:,2:12] # create tranining data matix\n",
    "#trainX=trainData[1:,2:39] # create tranining data matix\n",
    "#print(trainX)\n",
    "#trainLabel = np.genfromtxt( fname =trainFileName, delimiter= ',', dtype='U11') # read training data from file\n",
    "#trainY=trainLabel[] # create labels array\n",
    "\n",
    "from sklearn.model_selection import train_test_split\n",
    "\n",
    "X_train, X_test, y_train, y_test = train_test_split(X, y, test_size=0.3, random_state = 1)"
   ]
  },
  {
   "cell_type": "code",
   "execution_count": null,
   "metadata": {
    "collapsed": true
   },
   "outputs": [],
   "source": [
    "X = df.drop(['Index', 'Label'], axis = 1) #features\n",
    "y = df['Label'] #labels"
   ]
  },
  {
   "cell_type": "code",
   "execution_count": null,
   "metadata": {
    "collapsed": true
   },
   "outputs": [],
   "source": []
  }
 ],
 "metadata": {
  "kernelspec": {
   "display_name": "Python 3",
   "language": "python",
   "name": "python3"
  },
  "language_info": {
   "codemirror_mode": {
    "name": "ipython",
    "version": 3
   },
   "file_extension": ".py",
   "mimetype": "text/x-python",
   "name": "python",
   "nbconvert_exporter": "python",
   "pygments_lexer": "ipython3",
   "version": "3.6.0"
  }
 },
 "nbformat": 4,
 "nbformat_minor": 2
}
